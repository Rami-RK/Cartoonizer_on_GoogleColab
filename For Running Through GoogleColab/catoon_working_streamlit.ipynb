{
  "nbformat": 4,
  "nbformat_minor": 0,
  "metadata": {
    "colab": {
      "name": "catoon_working_streamlit",
      "provenance": [],
      "collapsed_sections": []
    },
    "kernelspec": {
      "name": "python3",
      "display_name": "Python 3"
    }
  },
  "cells": [
    {
      "cell_type": "code",
      "metadata": {
        "id": "l0ALmbXXMY54"
      },
      "source": [
        "!pip install streamlit"
      ],
      "execution_count": null,
      "outputs": []
    },
    {
      "cell_type": "code",
      "metadata": {
        "id": "F7Y0Bmibr19V"
      },
      "source": [
        "!pip install pyngrok"
      ],
      "execution_count": null,
      "outputs": []
    },
    {
      "cell_type": "code",
      "metadata": {
        "id": "UlLZk6mivMoJ",
        "outputId": "c4197059-ec8e-42ce-ee17-bb97f3759237",
        "colab": {
          "base_uri": "https://localhost:8080/",
          "height": 34
        }
      },
      "source": [
        "%tensorflow_version 1.x"
      ],
      "execution_count": 2,
      "outputs": [
        {
          "output_type": "stream",
          "text": [
            "TensorFlow 1.x selected.\n"
          ],
          "name": "stdout"
        }
      ]
    },
    {
      "cell_type": "code",
      "metadata": {
        "id": "fKSuukcXaO70",
        "outputId": "6ff9267e-751c-4f06-8c0c-2c892365cc0e",
        "colab": {
          "base_uri": "https://localhost:8080/",
          "height": 34
        }
      },
      "source": [
        "from google.colab import drive\n",
        "drive.mount('/content/gdrive')"
      ],
      "execution_count": 3,
      "outputs": [
        {
          "output_type": "stream",
          "text": [
            "Mounted at /content/gdrive\n"
          ],
          "name": "stdout"
        }
      ]
    },
    {
      "cell_type": "code",
      "metadata": {
        "id": "VbcYiEb6cIbc",
        "outputId": "8dde775f-15fb-4e22-d5e4-faa3f24600c0",
        "colab": {
          "base_uri": "https://localhost:8080/",
          "height": 34
        }
      },
      "source": [
        "\n",
        "%%writefile cartoonizer.py\n",
        "import streamlit as st\n",
        "from PIL import Image\n",
        "from datetime import datetime\n",
        "import time\n",
        "import random \n",
        "import pandas as pd\n",
        "import numpy as np\n",
        "import cv2\n",
        "from cv2 import cvtColor, COLOR_BGR2RGB\n",
        "import tensorflow as tf\n",
        "import os\n",
        "import tqdm\n",
        "import io\n",
        "import base64\n",
        "st.set_option('deprecation.showfileUploaderEncoding', False)\n",
        "\n",
        "import sys\n",
        "sys.path.append('/content/gdrive/My Drive/Cartoonize/app')\n",
        "import network\n",
        "import guided_filter\n",
        "\n",
        "\n",
        "status = False\n",
        "\n",
        "\n",
        "@st.cache(suppress_st_warning=True)\n",
        "\n",
        "def resize_crop(image):\n",
        "  try:\n",
        "    h, w, c = np.shape(image)\n",
        "    if min(h, w) > 720:\n",
        "        if h > w:\n",
        "            h, w = int(720*h/w), 720\n",
        "        else:\n",
        "            h, w = 720, int(720*w/h)\n",
        "    image = cv2.resize(image, (w, h),\n",
        "                        interpolation=cv2.INTER_AREA)\n",
        "    h, w = (h//8)*8, (w//8)*8\n",
        "    image = image[:h, :w, :]\n",
        "    return image\n",
        "  except:\n",
        "    return \"ERROR\"\n",
        "\n",
        "def load_model():\n",
        "\n",
        "  ss = time.time()\n",
        "  model_path = '/content/gdrive/My Drive/Cartoonize/saved_models'\n",
        "\n",
        "  input_photo = tf.placeholder(tf.float32, [1, None, None, 3])\n",
        "  network_out = network.unet_generator(input_photo)\n",
        "  final_out = guided_filter.guided_filter(input_photo, network_out, r=1, eps=5e-3)\n",
        "\n",
        "  all_vars = tf.trainable_variables()\n",
        "  gene_vars = [var for var in all_vars if 'generator' in var.name]\n",
        "  saver = tf.train.Saver(var_list=gene_vars)\n",
        "\n",
        "  print(\"loading model...............\")\n",
        "  config = tf.ConfigProto()\n",
        "  config.gpu_options.allow_growth = True\n",
        "  sess = tf.Session(config=config)\n",
        "\n",
        "  sess.run(tf.global_variables_initializer())\n",
        "  saver.restore(sess, tf.train.latest_checkpoint(model_path))\n",
        "  print(\"model loaded.................\")\n",
        "  print(\"model loading time \",str(time.time()-ss))\n",
        "\n",
        "  return sess, input_photo, final_out \n",
        "\n",
        "def cartoonize(image):\n",
        "  try:\n",
        "    batch_image = image.astype(np.float32)/127.5 - 1\n",
        "    batch_image = np.expand_dims(batch_image, axis=0)\n",
        "\n",
        "    sess, input_photo, final_out = load_model()\n",
        "\n",
        "    output = sess.run(final_out, feed_dict={input_photo: batch_image})\n",
        "    output = (np.squeeze(output)+1)*127.5\n",
        "    output = np.clip(output, 0, 255).astype(np.uint8)\n",
        "    return output\n",
        "  except:\n",
        "    st.markdown(\"error from cartoonize...\")\n",
        "    return \"ERROR\"\n",
        "         \n",
        "@st.cache(suppress_st_warning=True)\n",
        "def get_image_download_link(img):\n",
        "  buffered = io.BytesIO()\n",
        "  img = Image.fromarray(np.uint8(img)).convert('RGB')\n",
        "  img.save(buffered, format=\"JPEG\")\n",
        "  img_str = base64.b64encode(buffered.getvalue()).decode()\n",
        "  href = f'<a href=\"data:file/jpg;base64,{img_str}\" download=\"cartoon.jpg\">Download this image</a>'\n",
        "  return href\n",
        "\n",
        "@st.cache(suppress_st_warning=True)\n",
        "def load_image(image):\n",
        "  try:\n",
        "    global status\n",
        "    status = True\n",
        "    image = Image.open(image)\n",
        "    open_cv_image = np.asarray(image)\n",
        "    return open_cv_image\n",
        "  except:\n",
        "    return \"ERROR\"\n",
        "\n",
        "\n",
        "def cartoon_main(uploaded_file):         \n",
        "\n",
        "  if uploaded_file is not None:\n",
        "\n",
        "    try:\n",
        "\t\n",
        "      image = load_image(uploaded_file)\n",
        "      if image != \"ERROR\":\n",
        "        start = time.time()\n",
        "        image = resize_crop(image)\n",
        "        with st.spinner('Hang on, cartoonizing your image....'):\n",
        "\n",
        "          result = cartoonize(image)\n",
        "          if result != \"ERROR\":\n",
        "            end = time.time()\n",
        "            st.image(result, use_column_width=True)\n",
        "            st.markdown(get_image_download_link(result), unsafe_allow_html=True)  \n",
        "          else:\n",
        "            global status\n",
        "            status = False\n",
        "\n",
        "        shapes = image.shape\n",
        "        inptype = \"Image\"\n",
        "        \n",
        "      else:\n",
        "        start = time.time() \t \t\t\t\t\t\t\t\t\n",
        "        inptype = \"Not_Image\"\n",
        "        shapes = \"None\"\n",
        "        end = time.time()\n",
        "        st.markdown(\"Invalid Input : Please upload image only\")\n",
        "                  \n",
        "    except:\n",
        "      st.markdown(\"ERROR : Something went wrong \")\n",
        "\n",
        "page = st.sidebar.selectbox(\"Select a page\", [\"Cartoonize\", \"About Me\"])\n",
        "\n",
        "if page == \"Cartoonize\":\n",
        "  \n",
        "  st.title('Image Cartoonizer')\n",
        "\n",
        "  uploaded_file = None\n",
        "\n",
        "  uploaded_file = st.file_uploader(\"Choose your image...\")\n",
        "\n",
        "  cartoon_main(uploaded_file)\n",
        "\n",
        "elif page == \"About Me\":\n",
        "  st.title('About Me')\n",
        "  st.markdown(\"Hi! Myself Ramendra Kumar, MS(R), IITD, not just a learner, an avid learner for solving a problem of interest.\")\n",
        "  st.markdown(\" I am a Machine Learning Engineer/Trainer/Content Creater(Pure Technical). Mechanical Engineer by degree.\")\n",
        "  st.markdown(\"You can connent with me at  https://www.linkedin.com/in/ramendra-kumar-57334478/\")\n",
        "  st.markdown(\"https://github.com/Rami-RK\")\n",
        "  st.markdown(\"Mail me at karna.ramenk@gmail.com\")\n",
        "else:\n",
        "\tpass"
      ],
      "execution_count": 26,
      "outputs": [
        {
          "output_type": "stream",
          "text": [
            "Overwriting cartoonizer.py\n"
          ],
          "name": "stdout"
        }
      ]
    },
    {
      "cell_type": "code",
      "metadata": {
        "id": "n_efIy6aUNGL",
        "outputId": "a510e5d3-0474-4a7b-958b-41fb1ba56d54",
        "colab": {
          "base_uri": "https://localhost:8080/",
          "height": 34
        }
      },
      "source": [
        "!ngrok authtoken 1j4NY8ELrrx8ad0xmtGaUyFTpMl_yDUAvzbp3i1GBiwwGwtA"
      ],
      "execution_count": 19,
      "outputs": [
        {
          "output_type": "stream",
          "text": [
            "Authtoken saved to configuration file: /root/.ngrok2/ngrok.yml\n"
          ],
          "name": "stdout"
        }
      ]
    },
    {
      "cell_type": "code",
      "metadata": {
        "id": "8Zhh-lYhp-nh",
        "outputId": "35792c05-067e-4f6d-ad70-430aee5320bc",
        "colab": {
          "base_uri": "https://localhost:8080/",
          "height": 34
        }
      },
      "source": [
        "! nohup streamlit run cartoonizer.py &"
      ],
      "execution_count": 20,
      "outputs": [
        {
          "output_type": "stream",
          "text": [
            "nohup: appending output to 'nohup.out'\n"
          ],
          "name": "stdout"
        }
      ]
    },
    {
      "cell_type": "code",
      "metadata": {
        "id": "iq5r3X4frhM4",
        "outputId": "a8979d39-60b8-415f-a029-722ec0e6f93a",
        "colab": {
          "base_uri": "https://localhost:8080/",
          "height": 91
        }
      },
      "source": [
        "from pyngrok  import ngrok\n",
        "url=ngrok.connect(port=8501)\n",
        "url"
      ],
      "execution_count": 21,
      "outputs": [
        {
          "output_type": "stream",
          "text": [
            "/usr/local/lib/python3.6/dist-packages/ipykernel_launcher.py:2: DeprecationWarning: Support for \"return_ngrok_tunnel\" as \"False\" is deprecated and will be removed in 5.0.0, when this method will return a NgrokTunnel instead of a str\n",
            "  \n"
          ],
          "name": "stderr"
        },
        {
          "output_type": "execute_result",
          "data": {
            "application/vnd.google.colaboratory.intrinsic+json": {
              "type": "string"
            },
            "text/plain": [
              "'http://f44ef2f53029.ngrok.io'"
            ]
          },
          "metadata": {
            "tags": []
          },
          "execution_count": 21
        }
      ]
    },
    {
      "cell_type": "code",
      "metadata": {
        "id": "5rgp0j0kVChz"
      },
      "source": [
        "!cat /content/nohup.out"
      ],
      "execution_count": null,
      "outputs": []
    },
    {
      "cell_type": "code",
      "metadata": {
        "id": "oPJKAqek2uGi",
        "outputId": "52c170e9-90e5-4de0-d3b3-1a728a076a2d",
        "colab": {
          "base_uri": "https://localhost:8080/",
          "height": 34
        }
      },
      "source": [
        "!pgrep streamlit"
      ],
      "execution_count": 22,
      "outputs": [
        {
          "output_type": "stream",
          "text": [
            "3702\n"
          ],
          "name": "stdout"
        }
      ]
    },
    {
      "cell_type": "code",
      "metadata": {
        "id": "VIPAHTkj2y1g"
      },
      "source": [
        "!kill 3702\n"
      ],
      "execution_count": 23,
      "outputs": []
    },
    {
      "cell_type": "code",
      "metadata": {
        "id": "EridoSPy22wd"
      },
      "source": [
        "ngrok.kill()"
      ],
      "execution_count": 24,
      "outputs": []
    }
  ]
}